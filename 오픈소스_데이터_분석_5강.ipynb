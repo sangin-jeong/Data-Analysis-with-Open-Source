{
  "nbformat": 4,
  "nbformat_minor": 0,
  "metadata": {
    "colab": {
      "provenance": [],
      "include_colab_link": true
    },
    "kernelspec": {
      "name": "python3",
      "display_name": "Python 3"
    },
    "language_info": {
      "name": "python"
    }
  },
  "cells": [
    {
      "cell_type": "markdown",
      "metadata": {
        "id": "view-in-github",
        "colab_type": "text"
      },
      "source": [
        "<a href=\"https://colab.research.google.com/github/sangin-jeong/Data-Analysis-with-Open-Source/blob/main/%EC%98%A4%ED%94%88%EC%86%8C%EC%8A%A4_%EB%8D%B0%EC%9D%B4%ED%84%B0_%EB%B6%84%EC%84%9D_5%EA%B0%95.ipynb\" target=\"_parent\"><img src=\"https://colab.research.google.com/assets/colab-badge.svg\" alt=\"Open In Colab\"/></a>"
      ]
    },
    {
      "cell_type": "markdown",
      "source": [
        "# 오픈소스 기반 데이터 분석 5강 - 데이터 저장"
      ],
      "metadata": {
        "id": "O4kC4JMknVnK"
      }
    },
    {
      "cell_type": "markdown",
      "source": [
        "## 5-1 CSV 형식 저장"
      ],
      "metadata": {
        "id": "8DfV0cZLqj_s"
      }
    },
    {
      "cell_type": "code",
      "source": [
        "import pandas as pd\n",
        "\n",
        "data = {\n",
        "    'student_id': [101, 102, 103, 104, 105],\n",
        "    'database_score': [85, 76, 92, 63, 88],\n",
        "    'cloudcomputing_score': [78, 82, 95, 70, 84],\n",
        "    'python_score': [92, 78, 85, 75, 91],\n",
        "    'watch_rate': [0.95, 0.87, 0.99, 0.80, 0.93]\n",
        "}\n",
        "## DataFrame 생성\n",
        "df = pd.DataFrame(data)\n",
        "\n",
        "## CSV 형식 저장\n",
        "df.to_csv('student_analysis.csv', encoding='utf-8', index=False)"
      ],
      "metadata": {
        "id": "DztLRI9gW2lk"
      },
      "execution_count": 3,
      "outputs": []
    },
    {
      "cell_type": "markdown",
      "source": [
        "## 5-2 JSON 형식 저장"
      ],
      "metadata": {
        "id": "CSABzaf3q8XU"
      }
    },
    {
      "cell_type": "code",
      "source": [
        "### 라이브러리 임포트\n",
        "import json\n",
        "import pandas as pd\n",
        "\n",
        "data = {\n",
        "    \"이름\": \"홍길동\",\n",
        "    \"나이\": 25,\n",
        "    \"거주지\": \"서울\",\n",
        "    \"관심사\": [\"프로그래밍\", \"데이터 분석\", \"여행\"]\n",
        "}\n",
        "\n",
        "## json.dump를 이용한 저장\n",
        "with open('output.json', mode='w', encoding='utf-8') as f:\n",
        "    json.dump(data, f, indent=4, ensure_ascii=False)\n",
        "\n",
        "## DataFrame을 이용한 저장\n",
        "df = pd.DataFrame([data])\n",
        "df.to_json('output_df.json', orient='columns', indent=4, force_ascii=False)"
      ],
      "metadata": {
        "id": "7bAgRpizW7Vj"
      },
      "execution_count": 7,
      "outputs": []
    },
    {
      "cell_type": "markdown",
      "source": [
        "## 5-3 Pandas Dataframe 데이터 추출"
      ],
      "metadata": {
        "id": "NMlsQDHtrA_x"
      }
    },
    {
      "cell_type": "code",
      "source": [
        "import pandas as pd\n",
        "\n",
        "data = {\n",
        "    \"이름\": [\"김철수\", \"이영희\", \"박민수\", \"최지훈\", \"정소희\"],\n",
        "    \"학년\": [1, 2, 3, 4, 2],\n",
        "    \"학점\": [4.2, 3.8, 4.5, 3.9, 3.5],\n",
        "    \"학과\": [\"컴퓨터학\", \"경영학\", \"농학\", \"교육학\", \"영어영문학\"],\n",
        "    \"동아리\": [\"프로그래밍\", \"독서토론\", \"로봇공학\", \"봉사활동\", \"음악감상\"]\n",
        "}\n",
        "df = pd.DataFrame(data)\n",
        "df\n",
        "\n",
        "## DataFrame 인덱스 출력\n",
        "print(df.index)\n",
        "\n",
        "## DataFrame 컬럼 출력\n",
        "print(df.columns)\n",
        "\n",
        "## DataFrame 행 출력\n",
        "print(df.values.tolist())\n",
        "print(df.values)\n",
        "\n",
        "## DataFrame 값 출력\n",
        "print(df.values.flatten())"
      ],
      "metadata": {
        "id": "dk3xneVAW9_g",
        "outputId": "fe070361-bea1-49db-b79e-38d5457fb97f",
        "colab": {
          "base_uri": "https://localhost:8080/"
        }
      },
      "execution_count": 14,
      "outputs": [
        {
          "output_type": "stream",
          "name": "stdout",
          "text": [
            "RangeIndex(start=0, stop=5, step=1)\n",
            "Index(['이름', '학년', '학점', '학과', '동아리'], dtype='object')\n",
            "[['김철수', 1, 4.2, '컴퓨터학', '프로그래밍'], ['이영희', 2, 3.8, '경영학', '독서토론'], ['박민수', 3, 4.5, '농학', '로봇공학'], ['최지훈', 4, 3.9, '교육학', '봉사활동'], ['정소희', 2, 3.5, '영어영문학', '음악감상']]\n",
            "[['김철수' 1 4.2 '컴퓨터학' '프로그래밍']\n",
            " ['이영희' 2 3.8 '경영학' '독서토론']\n",
            " ['박민수' 3 4.5 '농학' '로봇공학']\n",
            " ['최지훈' 4 3.9 '교육학' '봉사활동']\n",
            " ['정소희' 2 3.5 '영어영문학' '음악감상']]\n",
            "['김철수' 1 4.2 '컴퓨터학' '프로그래밍' '이영희' 2 3.8 '경영학' '독서토론' '박민수' 3 4.5 '농학'\n",
            " '로봇공학' '최지훈' 4 3.9 '교육학' '봉사활동' '정소희' 2 3.5 '영어영문학' '음악감상']\n"
          ]
        }
      ]
    },
    {
      "cell_type": "markdown",
      "source": [
        "## 5-4 DataFrame 생성 방법"
      ],
      "metadata": {
        "id": "ILJd1GLoseqm"
      }
    },
    {
      "cell_type": "code",
      "source": [
        "import pandas as pd\n",
        "import json\n",
        "\n",
        "data = {\n",
        "    \"이름\": [\"김철수\", \"이영희\", \"박민수\", \"최지훈\", \"정소희\"],\n",
        "    \"학년\": [1, 2, 3, 4, 2],\n",
        "    \"학점\": [4.2, 3.8, 4.5, 3.9, 3.5],\n",
        "    \"학과\": [\"컴퓨터공학\", \"경영학\", \"전자공학\", \"의학\", \"심리학\"],\n",
        "    \"동아리\": [\"프로그래밍\", \"독서토론\", \"로봇공학\", \"봉사활동\", \"음악감상\"]\n",
        "}\n",
        "\n",
        "## 딕셔너리, csv, json으로 부터 DataFrame 생성\n",
        "df1 = pd.DataFrame.from_dict(data)\n",
        "df2 = pd.read_csv('students.csv')\n",
        "df3 = pd.read_json('students.json')\n",
        "\n",
        "## 세가지 방법 결과 비교\n",
        "print(df1.shape)\n",
        "print(df2.shape)\n",
        "print(df3.shape)"
      ],
      "metadata": {
        "id": "ISnPLEgNXAmi",
        "outputId": "b5b4f311-84d2-4dfd-8698-9a0b8b2442a4",
        "colab": {
          "base_uri": "https://localhost:8080/"
        }
      },
      "execution_count": 15,
      "outputs": [
        {
          "output_type": "stream",
          "name": "stdout",
          "text": [
            "(5, 5)\n",
            "(5, 5)\n",
            "(5, 5)\n"
          ]
        }
      ]
    },
    {
      "cell_type": "markdown",
      "source": [
        "## 5-5 DataFrame 저장 방법"
      ],
      "metadata": {
        "id": "z1N6lAnwsdyU"
      }
    },
    {
      "cell_type": "code",
      "source": [
        "import pandas as pd\n",
        "\n",
        "data = {\n",
        "    \"이름\": [\"김철수\", \"이영희\", \"박민수\", \"최지훈\", \"정소희\"],\n",
        "    \"학년\": [1, 2, 3, 4, 2],\n",
        "    \"학점\": [4.2, 3.8, 4.5, 3.9, 3.5],\n",
        "    \"학과\": [\"컴퓨터공학\", \"경영학\", \"전자공학\", \"의학\", \"심리학\"],\n",
        "    \"동아리\": [\"프로그래밍\", \"독서토론\", \"로봇공학\", \"봉사활동\", \"음악감상\"]\n",
        "}\n",
        "\n",
        "## Dataframe 생성\n",
        "df = pd.DataFrame(data)\n",
        "\n",
        "## CSV, JSON 형식으로 저장\n",
        "df.to_csv('students_scores.csv')\n",
        "df.to_json('students_scores.json', indent=4, force_ascii=False)\n",
        "\n",
        "## HTML 형식으로 저장\n",
        "html_table = df.to_html()\n",
        "with open('students_scores.html', 'w') as f:\n",
        "    f.write(html_table)"
      ],
      "metadata": {
        "id": "_dqoWCRoXDrJ"
      },
      "execution_count": 19,
      "outputs": []
    },
    {
      "cell_type": "markdown",
      "source": [
        "## 5-6 실습 시나리오"
      ],
      "metadata": {
        "id": "ifBFAyulsdJb"
      }
    },
    {
      "cell_type": "markdown",
      "source": [
        "## 데이터 수집"
      ],
      "metadata": {
        "id": "muFj6okKyXy6"
      }
    },
    {
      "cell_type": "code",
      "source": [
        "import requests\n",
        "\n",
        "## 데이터 수집 url 및 api key 설정\n",
        "api_key =\n",
        "base_url = f'http://openapi.seoul.go.kr:8088/{api_key}/json/energyUseDataSummaryInfo'\n",
        "\n",
        "start_index = 1\n",
        "end_index = 5\n",
        "year = 2015\n",
        "month = 1\n",
        "\n",
        "url = f\"{base_url}/{start_index}/{end_index}/{year}/{month:02d}\"\n",
        "\n",
        "## 데이터 수집\n",
        "response = requests.get(url)\n",
        "\n",
        "## 호출 성공/실패 출력\n",
        "print(response.json())\n"
      ],
      "metadata": {
        "id": "7yCozmQeXJcO",
        "outputId": "3295f360-55ae-40ff-bd4e-973f8fc254d4",
        "colab": {
          "base_uri": "https://localhost:8080/"
        }
      },
      "execution_count": 20,
      "outputs": [
        {
          "output_type": "stream",
          "name": "stdout",
          "text": [
            "{'energyUseDataSummaryInfo': {'list_total_count': 7, 'RESULT': {'CODE': 'INFO-000', 'MESSAGE': '정상 처리되었습니다'}, 'row': [{'YEAR': '2015', 'MON': '01', 'MM_TYPE': '개인', 'CNT': '767791', 'EUS': '193784708', 'EUS1': '194781915', 'EUS2': '204969429', 'ECO2_1': '-6090964', 'ECO2_2': '-2582568.736', 'GUS': '59133720', 'GUS1': '57163993', 'GUS2': '68297619', 'GCO2_1': '-3597086', 'GCO2_2': '-8057472.64', 'WUS': '12819757.886', 'WUS1': '12723680.426', 'WUS2': '12899476.73', 'WCO2_1': '8179.308', 'WCO2_2': '2715.530256', 'HUS': '22740838.937', 'HUS1': '23400055.303', 'HUS2': '27090493.875', 'HCO2_1': '-2504435.652', 'HCO2_2': '-33660084.213069', 'REG_DATE': '2015-06-04 17:03:55.0'}, {'YEAR': '2015', 'MON': '01', 'MM_TYPE': '학교', 'CNT': '1382', 'EUS': '134955565', 'EUS1': '128707423', 'EUS2': '145561511', 'ECO2_1': '-2178902', 'ECO2_2': '-923854.448', 'GUS': '9107197', 'GUS1': '8410968', 'GUS2': '10745416', 'GCO2_1': '-470995', 'GCO2_2': '-1055028.8', 'WUS': '2075819.2', 'WUS1': '2097433.8', 'WUS2': '2133200.8', 'WCO2_1': '-39498.1', 'WCO2_2': '-13113.3692', 'HUS': '0', 'HUS1': '0', 'HUS2': '0', 'HCO2_1': '0', 'HCO2_2': '0', 'REG_DATE': '2015-06-04 17:03:55.0'}, {'YEAR': '2015', 'MON': '01', 'MM_TYPE': '종교단체', 'CNT': '32', 'EUS': '372270', 'EUS1': '363376', 'EUS2': '411363', 'ECO2_1': '-15099.5', 'ECO2_2': '-6402.188', 'GUS': '53331', 'GUS1': '45727', 'GUS2': '63312', 'GCO2_1': '-1188.5', 'GCO2_2': '-2662.24', 'WUS': '5945', 'WUS1': '4548', 'WUS2': '4519', 'WCO2_1': '1411.5', 'WCO2_2': '468.618', 'HUS': '0', 'HUS1': '0', 'HUS2': '0', 'HCO2_1': '0', 'HCO2_2': '0', 'REG_DATE': '2015-06-04 17:03:55.0'}, {'YEAR': '2015', 'MON': '01', 'MM_TYPE': '소상공인', 'CNT': '2058', 'EUS': '10249618', 'EUS1': '9927610', 'EUS2': '11039593', 'ECO2_1': '-233983.5', 'ECO2_2': '-99209.004', 'GUS': '536119', 'GUS1': '523810', 'GUS2': '642921', 'GCO2_1': '-47246.5', 'GCO2_2': '-105832.16', 'WUS': '147273', 'WUS1': '146480.6', 'WUS2': '147325.6', 'WCO2_1': '369.9', 'WCO2_2': '122.8068', 'HUS': '0', 'HUS1': '0', 'HUS2': '0', 'HCO2_1': '0', 'HCO2_2': '0', 'REG_DATE': '2015-06-04 17:03:55.0'}, {'YEAR': '2015', 'MON': '01', 'MM_TYPE': '공동주택관리소', 'CNT': '1747', 'EUS': '327102096', 'EUS1': '329852334', 'EUS2': '351694752', 'ECO2_1': '-13671447', 'ECO2_2': '-5796693.528', 'GUS': '22834274', 'GUS1': '21141017', 'GUS2': '25338506', 'GCO2_1': '-405487.5', 'GCO2_2': '-908292', 'WUS': '12844807.5', 'WUS1': '12763070', 'WUS2': '12979835.8', 'WCO2_1': '-26645.4', 'WCO2_2': '-8846.2728', 'HUS': '0', 'HUS1': '0', 'HUS2': '0', 'HCO2_1': '0', 'HCO2_2': '0', 'REG_DATE': '2015-06-04 17:03:55.0'}]}}\n"
          ]
        }
      ]
    },
    {
      "cell_type": "code",
      "source": [
        "response.json()"
      ],
      "metadata": {
        "id": "GyvwrLPygsVP",
        "outputId": "ae300727-876f-4abe-d95d-0dd78bec59f4",
        "colab": {
          "base_uri": "https://localhost:8080/"
        }
      },
      "execution_count": 21,
      "outputs": [
        {
          "output_type": "execute_result",
          "data": {
            "text/plain": [
              "{'energyUseDataSummaryInfo': {'list_total_count': 7,\n",
              "  'RESULT': {'CODE': 'INFO-000', 'MESSAGE': '정상 처리되었습니다'},\n",
              "  'row': [{'YEAR': '2015',\n",
              "    'MON': '01',\n",
              "    'MM_TYPE': '개인',\n",
              "    'CNT': '767791',\n",
              "    'EUS': '193784708',\n",
              "    'EUS1': '194781915',\n",
              "    'EUS2': '204969429',\n",
              "    'ECO2_1': '-6090964',\n",
              "    'ECO2_2': '-2582568.736',\n",
              "    'GUS': '59133720',\n",
              "    'GUS1': '57163993',\n",
              "    'GUS2': '68297619',\n",
              "    'GCO2_1': '-3597086',\n",
              "    'GCO2_2': '-8057472.64',\n",
              "    'WUS': '12819757.886',\n",
              "    'WUS1': '12723680.426',\n",
              "    'WUS2': '12899476.73',\n",
              "    'WCO2_1': '8179.308',\n",
              "    'WCO2_2': '2715.530256',\n",
              "    'HUS': '22740838.937',\n",
              "    'HUS1': '23400055.303',\n",
              "    'HUS2': '27090493.875',\n",
              "    'HCO2_1': '-2504435.652',\n",
              "    'HCO2_2': '-33660084.213069',\n",
              "    'REG_DATE': '2015-06-04 17:03:55.0'},\n",
              "   {'YEAR': '2015',\n",
              "    'MON': '01',\n",
              "    'MM_TYPE': '학교',\n",
              "    'CNT': '1382',\n",
              "    'EUS': '134955565',\n",
              "    'EUS1': '128707423',\n",
              "    'EUS2': '145561511',\n",
              "    'ECO2_1': '-2178902',\n",
              "    'ECO2_2': '-923854.448',\n",
              "    'GUS': '9107197',\n",
              "    'GUS1': '8410968',\n",
              "    'GUS2': '10745416',\n",
              "    'GCO2_1': '-470995',\n",
              "    'GCO2_2': '-1055028.8',\n",
              "    'WUS': '2075819.2',\n",
              "    'WUS1': '2097433.8',\n",
              "    'WUS2': '2133200.8',\n",
              "    'WCO2_1': '-39498.1',\n",
              "    'WCO2_2': '-13113.3692',\n",
              "    'HUS': '0',\n",
              "    'HUS1': '0',\n",
              "    'HUS2': '0',\n",
              "    'HCO2_1': '0',\n",
              "    'HCO2_2': '0',\n",
              "    'REG_DATE': '2015-06-04 17:03:55.0'},\n",
              "   {'YEAR': '2015',\n",
              "    'MON': '01',\n",
              "    'MM_TYPE': '종교단체',\n",
              "    'CNT': '32',\n",
              "    'EUS': '372270',\n",
              "    'EUS1': '363376',\n",
              "    'EUS2': '411363',\n",
              "    'ECO2_1': '-15099.5',\n",
              "    'ECO2_2': '-6402.188',\n",
              "    'GUS': '53331',\n",
              "    'GUS1': '45727',\n",
              "    'GUS2': '63312',\n",
              "    'GCO2_1': '-1188.5',\n",
              "    'GCO2_2': '-2662.24',\n",
              "    'WUS': '5945',\n",
              "    'WUS1': '4548',\n",
              "    'WUS2': '4519',\n",
              "    'WCO2_1': '1411.5',\n",
              "    'WCO2_2': '468.618',\n",
              "    'HUS': '0',\n",
              "    'HUS1': '0',\n",
              "    'HUS2': '0',\n",
              "    'HCO2_1': '0',\n",
              "    'HCO2_2': '0',\n",
              "    'REG_DATE': '2015-06-04 17:03:55.0'},\n",
              "   {'YEAR': '2015',\n",
              "    'MON': '01',\n",
              "    'MM_TYPE': '소상공인',\n",
              "    'CNT': '2058',\n",
              "    'EUS': '10249618',\n",
              "    'EUS1': '9927610',\n",
              "    'EUS2': '11039593',\n",
              "    'ECO2_1': '-233983.5',\n",
              "    'ECO2_2': '-99209.004',\n",
              "    'GUS': '536119',\n",
              "    'GUS1': '523810',\n",
              "    'GUS2': '642921',\n",
              "    'GCO2_1': '-47246.5',\n",
              "    'GCO2_2': '-105832.16',\n",
              "    'WUS': '147273',\n",
              "    'WUS1': '146480.6',\n",
              "    'WUS2': '147325.6',\n",
              "    'WCO2_1': '369.9',\n",
              "    'WCO2_2': '122.8068',\n",
              "    'HUS': '0',\n",
              "    'HUS1': '0',\n",
              "    'HUS2': '0',\n",
              "    'HCO2_1': '0',\n",
              "    'HCO2_2': '0',\n",
              "    'REG_DATE': '2015-06-04 17:03:55.0'},\n",
              "   {'YEAR': '2015',\n",
              "    'MON': '01',\n",
              "    'MM_TYPE': '공동주택관리소',\n",
              "    'CNT': '1747',\n",
              "    'EUS': '327102096',\n",
              "    'EUS1': '329852334',\n",
              "    'EUS2': '351694752',\n",
              "    'ECO2_1': '-13671447',\n",
              "    'ECO2_2': '-5796693.528',\n",
              "    'GUS': '22834274',\n",
              "    'GUS1': '21141017',\n",
              "    'GUS2': '25338506',\n",
              "    'GCO2_1': '-405487.5',\n",
              "    'GCO2_2': '-908292',\n",
              "    'WUS': '12844807.5',\n",
              "    'WUS1': '12763070',\n",
              "    'WUS2': '12979835.8',\n",
              "    'WCO2_1': '-26645.4',\n",
              "    'WCO2_2': '-8846.2728',\n",
              "    'HUS': '0',\n",
              "    'HUS1': '0',\n",
              "    'HUS2': '0',\n",
              "    'HCO2_1': '0',\n",
              "    'HCO2_2': '0',\n",
              "    'REG_DATE': '2015-06-04 17:03:55.0'}]}}"
            ]
          },
          "metadata": {},
          "execution_count": 21
        }
      ]
    },
    {
      "cell_type": "markdown",
      "source": [
        "## 데이터 프레임 생성"
      ],
      "metadata": {
        "id": "d6mT4IxkySzI"
      }
    },
    {
      "cell_type": "code",
      "source": [
        "import pandas as pd\n",
        "\n",
        "## requests로부터 response, body, item 항목 읽기\n",
        "data = response.json()['energyUseDataSummaryInfo']['row']\n",
        "print(type(data))\n",
        "print(len(data))\n",
        "print(data[0])\n",
        "df = pd.DataFrame(data)\n",
        "df['EUS']"
      ],
      "metadata": {
        "id": "HOOo9qTsXLkB",
        "outputId": "57e9b4a1-b267-474f-8a15-9c1144830174",
        "colab": {
          "base_uri": "https://localhost:8080/",
          "height": 314
        }
      },
      "execution_count": 26,
      "outputs": [
        {
          "output_type": "stream",
          "name": "stdout",
          "text": [
            "<class 'list'>\n",
            "5\n",
            "{'YEAR': '2015', 'MON': '01', 'MM_TYPE': '개인', 'CNT': '767791', 'EUS': '193784708', 'EUS1': '194781915', 'EUS2': '204969429', 'ECO2_1': '-6090964', 'ECO2_2': '-2582568.736', 'GUS': '59133720', 'GUS1': '57163993', 'GUS2': '68297619', 'GCO2_1': '-3597086', 'GCO2_2': '-8057472.64', 'WUS': '12819757.886', 'WUS1': '12723680.426', 'WUS2': '12899476.73', 'WCO2_1': '8179.308', 'WCO2_2': '2715.530256', 'HUS': '22740838.937', 'HUS1': '23400055.303', 'HUS2': '27090493.875', 'HCO2_1': '-2504435.652', 'HCO2_2': '-33660084.213069', 'REG_DATE': '2015-06-04 17:03:55.0'}\n"
          ]
        },
        {
          "output_type": "execute_result",
          "data": {
            "text/plain": [
              "0    193784708\n",
              "1    134955565\n",
              "2       372270\n",
              "3     10249618\n",
              "4    327102096\n",
              "Name: EUS, dtype: object"
            ],
            "text/html": [
              "<div>\n",
              "<style scoped>\n",
              "    .dataframe tbody tr th:only-of-type {\n",
              "        vertical-align: middle;\n",
              "    }\n",
              "\n",
              "    .dataframe tbody tr th {\n",
              "        vertical-align: top;\n",
              "    }\n",
              "\n",
              "    .dataframe thead th {\n",
              "        text-align: right;\n",
              "    }\n",
              "</style>\n",
              "<table border=\"1\" class=\"dataframe\">\n",
              "  <thead>\n",
              "    <tr style=\"text-align: right;\">\n",
              "      <th></th>\n",
              "      <th>EUS</th>\n",
              "    </tr>\n",
              "  </thead>\n",
              "  <tbody>\n",
              "    <tr>\n",
              "      <th>0</th>\n",
              "      <td>193784708</td>\n",
              "    </tr>\n",
              "    <tr>\n",
              "      <th>1</th>\n",
              "      <td>134955565</td>\n",
              "    </tr>\n",
              "    <tr>\n",
              "      <th>2</th>\n",
              "      <td>372270</td>\n",
              "    </tr>\n",
              "    <tr>\n",
              "      <th>3</th>\n",
              "      <td>10249618</td>\n",
              "    </tr>\n",
              "    <tr>\n",
              "      <th>4</th>\n",
              "      <td>327102096</td>\n",
              "    </tr>\n",
              "  </tbody>\n",
              "</table>\n",
              "</div><br><label><b>dtype:</b> object</label>"
            ]
          },
          "metadata": {},
          "execution_count": 26
        }
      ]
    },
    {
      "cell_type": "markdown",
      "source": [
        "## 다양항 형식으로 데이터 저장\n"
      ],
      "metadata": {
        "id": "vVG0HYb0ymeM"
      }
    },
    {
      "cell_type": "code",
      "source": [
        "## CSV 형식 데이터 저장\n",
        "df.to_csv('air_pollution.csv', index=False, encoding='utf-8')\n",
        "\n",
        "## JSON 형식 데이터 저장\n",
        "df.to_json('air_pollution.json', indent=4, force_ascii=False)\n",
        "\n",
        "## EXCEL 형식 데이터 저장\n",
        "df.to_excel('air_pollution.xlsx', index=False)\n",
        "\n",
        "## HTML 형식 데이터 저장\n",
        "df.to_html('air_pollution.html')"
      ],
      "metadata": {
        "id": "HW1ZodpgXNhG"
      },
      "execution_count": 27,
      "outputs": []
    }
  ]
}